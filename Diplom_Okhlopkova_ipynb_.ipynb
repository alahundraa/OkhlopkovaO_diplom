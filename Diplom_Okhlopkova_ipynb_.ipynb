{
  "nbformat": 4,
  "nbformat_minor": 0,
  "metadata": {
    "colab": {
      "provenance": []
    },
    "kernelspec": {
      "name": "python3",
      "display_name": "Python 3"
    },
    "language_info": {
      "name": "python"
    }
  },
  "cells": [
    {
      "cell_type": "markdown",
      "source": [
        "# Ввод фейковой новости, которая может оказаться фейковой"
      ],
      "metadata": {
        "id": "sXW4RNHJk76-"
      }
    },
    {
      "cell_type": "code",
      "execution_count": null,
      "metadata": {
        "id": "4wA-cJ2qSPcu",
        "colab": {
          "base_uri": "https://localhost:8080/"
        },
        "outputId": "6f3c8095-5795-46e4-b785-1579f7f1a459"
      },
      "outputs": [
        {
          "name": "stdout",
          "output_type": "stream",
          "text": [
            "Введите текст, который необходимо проверить: Введите текст, который необходимо проверить: Введите текст, который необходимо проверить:\n"
          ]
        }
      ],
      "source": [
        "str = input(\"Введите текст, который необходимо проверить: \")"
      ]
    },
    {
      "cell_type": "code",
      "source": [
        "print(str)"
      ],
      "metadata": {
        "colab": {
          "base_uri": "https://localhost:8080/"
        },
        "id": "pBRz8uXhF0BT",
        "outputId": "9d9ddee8-d803-4466-c7a7-34475100ca8e"
      },
      "execution_count": null,
      "outputs": [
        {
          "output_type": "stream",
          "name": "stdout",
          "text": [
            "Введите текст, который необходимо проверить: Введите текст, который необходимо проверить:\n"
          ]
        }
      ]
    },
    {
      "cell_type": "markdown",
      "source": [
        "# Предобработка данных"
      ],
      "metadata": {
        "id": "NOAz8Xrgkx3k"
      }
    },
    {
      "cell_type": "code",
      "source": [
        "import re\n",
        "\n",
        "lower_string1 = str.lower()                                                                                                 #к нижнему регистру\n",
        "no_number_string1 = re.sub(r'\\d+','', lower_string1)                                                                         #удаление чисел\n",
        "no_wspace_string1 = no_number_string1.strip()                                                                                #удаление лишних пробелов\n",
        "no_wspace_string1 = no_wspace_string1.replace(\" — \", \"-\")\n",
        "re.findall(r\"^.*?(-.*?)-.*$\",no_wspace_string1)                                                                              #замена\n",
        "print(no_wspace_string1)"
      ],
      "metadata": {
        "colab": {
          "base_uri": "https://localhost:8080/"
        },
        "id": "Li-zXLNvI1fM",
        "outputId": "d96fe363-4783-4d47-b70d-62e0918b974c"
      },
      "execution_count": null,
      "outputs": [
        {
          "output_type": "stream",
          "name": "stdout",
          "text": [
            "введите текст, который необходимо проверить: введите текст, который необходимо проверить:\n"
          ]
        }
      ]
    },
    {
      "cell_type": "code",
      "source": [
        "import nltk\n",
        "from nltk.tokenize import word_tokenize \n",
        "nltk.download('punkt')\n",
        "\n",
        "tokens_without_sw1 = word_tokenize(no_wspace_string1)                                                                  #токенизация текста\n",
        "print(tokens_without_sw1)"
      ],
      "metadata": {
        "colab": {
          "base_uri": "https://localhost:8080/"
        },
        "id": "e2xd85C0KUeX",
        "outputId": "56b0aa08-a125-46e5-a8ec-1303233b9b80"
      },
      "execution_count": null,
      "outputs": [
        {
          "output_type": "stream",
          "name": "stdout",
          "text": [
            "['введите', 'текст', ',', 'который', 'необходимо', 'проверить', ':', 'введите', 'текст', ',', 'который', 'необходимо', 'проверить', ':']\n"
          ]
        },
        {
          "output_type": "stream",
          "name": "stderr",
          "text": [
            "[nltk_data] Downloading package punkt to /root/nltk_data...\n",
            "[nltk_data]   Package punkt is already up-to-date!\n"
          ]
        }
      ]
    },
    {
      "cell_type": "code",
      "source": [
        "!pip install pymorphy2"
      ],
      "metadata": {
        "colab": {
          "base_uri": "https://localhost:8080/"
        },
        "id": "vQCr7pK7Py2b",
        "outputId": "ff7cc9de-913a-4904-9115-d0ec83ece8d6"
      },
      "execution_count": null,
      "outputs": [
        {
          "output_type": "stream",
          "name": "stdout",
          "text": [
            "Looking in indexes: https://pypi.org/simple, https://us-python.pkg.dev/colab-wheels/public/simple/\n",
            "Requirement already satisfied: pymorphy2 in /usr/local/lib/python3.10/dist-packages (0.9.1)\n",
            "Requirement already satisfied: dawg-python>=0.7.1 in /usr/local/lib/python3.10/dist-packages (from pymorphy2) (0.7.2)\n",
            "Requirement already satisfied: pymorphy2-dicts-ru<3.0,>=2.4 in /usr/local/lib/python3.10/dist-packages (from pymorphy2) (2.4.417127.4579844)\n",
            "Requirement already satisfied: docopt>=0.6 in /usr/local/lib/python3.10/dist-packages (from pymorphy2) (0.6.2)\n"
          ]
        }
      ]
    },
    {
      "cell_type": "code",
      "source": [
        "import pymorphy2\n",
        "\n",
        "morph = pymorphy2.MorphAnalyzer()                                               #лемматизация \n",
        "normal_f1 = []\n",
        "for word in tokens_without_sw1:\n",
        "    normal_f1.append(morph.parse(word)[0].normal_form)\n",
        "print(normal_f1)"
      ],
      "metadata": {
        "id": "fnHMQwA8P1l4",
        "colab": {
          "base_uri": "https://localhost:8080/"
        },
        "outputId": "0197f061-c9d6-456f-dced-1742eea58146"
      },
      "execution_count": null,
      "outputs": [
        {
          "output_type": "stream",
          "name": "stdout",
          "text": [
            "['ввести', 'текст', ',', 'который', 'необходимо', 'проверить', ':', 'ввести', 'текст', ',', 'который', 'необходимо', 'проверить', ':']\n"
          ]
        }
      ]
    },
    {
      "cell_type": "code",
      "source": [
        "from nltk.corpus import stopwords                                                                                                                                                        #удаление стоп-слов и знаков препинания\n",
        "import nltk\n",
        "nltk.download('stopwords')\n",
        "\n",
        "from string import punctuation                                                                                                                                                              #проблема с фильтрацией стоп-слов - отдельная глава\n",
        "punctuation\n",
        "\n",
        "new_stopwords1 = [\"это\", \"также\", \"гипотеза\", \"равенство\", \"теория\", \"существование\", \"класс\", \"гладкость\", \"уравнение\", \"решение\"]                                                        #создание доп списка с стоп-словами \n",
        "new_punc1 = [\"«\", \"»\"]                                                                                                                                                                     #создание доп списка с пунктуационными символами\n",
        "noise1 = stopwords.words('russian') + list(punctuation) \n",
        "noise1.extend(new_stopwords1) \n",
        "noise1.extend(new_punc1)\n",
        "normal_f1 = [word1 for word1 in normal_f1 if not word1 in noise1] \n",
        " \n",
        "print(normal_f1)  "
      ],
      "metadata": {
        "colab": {
          "base_uri": "https://localhost:8080/"
        },
        "id": "-qtwS0DtJ8fF",
        "outputId": "aa3f823b-0b04-466d-94de-ee0e176e4166"
      },
      "execution_count": null,
      "outputs": [
        {
          "output_type": "stream",
          "name": "stdout",
          "text": [
            "['ввести', 'текст', 'который', 'необходимо', 'проверить', 'ввести', 'текст', 'который', 'необходимо', 'проверить']\n"
          ]
        },
        {
          "output_type": "stream",
          "name": "stderr",
          "text": [
            "[nltk_data] Downloading package stopwords to /root/nltk_data...\n",
            "[nltk_data]   Package stopwords is already up-to-date!\n"
          ]
        }
      ]
    },
    {
      "cell_type": "markdown",
      "source": [
        "# Алгоритм с помощью n-грамм"
      ],
      "metadata": {
        "id": "IfCYCBTllVL_"
      }
    },
    {
      "cell_type": "markdown",
      "source": [],
      "metadata": {
        "id": "PjQWSvvGNBo0"
      }
    },
    {
      "cell_type": "code",
      "source": [
        "bigrams = []\n",
        "for i in range(len(normal_f1)-1):\n",
        "    bigram = (normal_f1[i], normal_f1[i+1])\n",
        "    bigrams.append(bigram)\n",
        "    \n",
        "print(bigrams)"
      ],
      "metadata": {
        "colab": {
          "base_uri": "https://localhost:8080/"
        },
        "id": "AH8cRyZ5PIVw",
        "outputId": "a0917a6b-952c-4c27-face-975184fd3e5e"
      },
      "execution_count": null,
      "outputs": [
        {
          "output_type": "stream",
          "name": "stdout",
          "text": [
            "[('ввести', 'текст'), ('текст', 'который'), ('который', 'необходимо'), ('необходимо', 'проверить'), ('проверить', 'ввести'), ('ввести', 'текст'), ('текст', 'который'), ('который', 'необходимо'), ('необходимо', 'проверить')]\n"
          ]
        }
      ]
    },
    {
      "cell_type": "markdown",
      "source": [
        "# Из owl в json"
      ],
      "metadata": {
        "id": "Reamv-Bz3P27"
      }
    },
    {
      "cell_type": "code",
      "source": [
        "from google.colab import drive\n",
        "drive.mount('/content/drive')"
      ],
      "metadata": {
        "colab": {
          "base_uri": "https://localhost:8080/"
        },
        "id": "uK_Dba4-Sztf",
        "outputId": "5c6112dc-a54d-4685-918b-949cd70ec2a8"
      },
      "execution_count": null,
      "outputs": [
        {
          "output_type": "stream",
          "name": "stdout",
          "text": [
            "Drive already mounted at /content/drive; to attempt to forcibly remount, call drive.mount(\"/content/drive\", force_remount=True).\n"
          ]
        }
      ]
    },
    {
      "cell_type": "code",
      "source": [
        "!pip install rdflib"
      ],
      "metadata": {
        "colab": {
          "base_uri": "https://localhost:8080/"
        },
        "id": "vryjvKzT1Xgv",
        "outputId": "b6a63275-8714-4d7e-8483-c61125d2fa49"
      },
      "execution_count": null,
      "outputs": [
        {
          "output_type": "stream",
          "name": "stdout",
          "text": [
            "Looking in indexes: https://pypi.org/simple, https://us-python.pkg.dev/colab-wheels/public/simple/\n",
            "Requirement already satisfied: rdflib in /usr/local/lib/python3.10/dist-packages (6.3.2)\n",
            "Requirement already satisfied: isodate<0.7.0,>=0.6.0 in /usr/local/lib/python3.10/dist-packages (from rdflib) (0.6.1)\n",
            "Requirement already satisfied: pyparsing<4,>=2.1.0 in /usr/local/lib/python3.10/dist-packages (from rdflib) (3.0.9)\n",
            "Requirement already satisfied: six in /usr/local/lib/python3.10/dist-packages (from isodate<0.7.0,>=0.6.0->rdflib) (1.16.0)\n"
          ]
        }
      ]
    },
    {
      "cell_type": "code",
      "source": [
        "from rdflib import Graph\n",
        "import json\n",
        "g = Graph()\n",
        "g.parse(\"/content/drive/My Drive/ontology/urn_webprotege_ontology_511a8675-2461-4b7a-ba84-e70faecb1102.owl\")                                # Загружаем OWL-файл в граф RDF\n",
        "\n",
        "json_data = g.serialize(format='json-ld', indent=4, ensure_ascii=False)                                                                    # Преобразуем граф в JSON-формат\n",
        "\n",
        "with open(\"/content/drive/My Drive/ontology/owltojson.json\", \"w\") as f:                                                                    # Сохраняем JSON-данные в файл\n",
        "    json.dump(json_data, f)\n",
        "print(json_data)"
      ],
      "metadata": {
        "id": "3IowVlNq1Ibu",
        "colab": {
          "base_uri": "https://localhost:8080/"
        },
        "outputId": "dceb1a83-88ef-4fbb-8dd5-d2212fc6674a"
      },
      "execution_count": null,
      "outputs": [
        {
          "output_type": "stream",
          "name": "stdout",
          "text": [
            "[\n",
            "    {\n",
            "        \"@id\": \"http://webprotege.stanford.edu/R9gqE5CVDVMyWK085AGL0s\",\n",
            "        \"@type\": [\n",
            "            \"http://www.w3.org/2002/07/owl#Class\"\n",
            "        ],\n",
            "        \"http://www.w3.org/2000/01/rdf-schema#label\": [\n",
            "            {\n",
            "                \"@language\": \"ru\",\n",
            "                \"@value\": \"Темы новостей\"\n",
            "            }\n",
            "        ],\n",
            "        \"http://www.w3.org/2000/01/rdf-schema#subClassOf\": [\n",
            "            {\n",
            "                \"@id\": \"http://webprotege.stanford.edu/RDqm0ObkL5xsDHWk1DaBE4Y\"\n",
            "            }\n",
            "        ]\n",
            "    },\n",
            "    {\n",
            "        \"@id\": \"urn:webprotege:ontology:511a8675-2461-4b7a-ba84-e70faecb1102\",\n",
            "        \"@type\": [\n",
            "            \"http://www.w3.org/2002/07/owl#Ontology\"\n",
            "        ]\n",
            "    },\n",
            "    {\n",
            "        \"@id\": \"http://webprotege.stanford.edu/RDqm0ObkL5xsDHWk1DaBE4Y\",\n",
            "        \"@type\": [\n",
            "            \"http://www.w3.org/2002/07/owl#Class\"\n",
            "        ],\n",
            "        \"http://www.w3.org/2000/01/rdf-schema#label\": [\n",
            "            {\n",
            "                \"@language\": \"ru\",\n",
            "                \"@value\": \"Новости\"\n",
            "            }\n",
            "        ]\n",
            "    },\n",
            "    {\n",
            "        \"@id\": \"http://webprotege.stanford.edu/R74IUXdbRYdrhpKttwReSGv\",\n",
            "        \"@type\": [\n",
            "            \"http://www.w3.org/2002/07/owl#Class\"\n",
            "        ],\n",
            "        \"http://www.w3.org/2000/01/rdf-schema#label\": [\n",
            "            {\n",
            "                \"@language\": \"ru\",\n",
            "                \"@value\": \"Гипотеза Ходжа\"\n",
            "            }\n",
            "        ],\n",
            "        \"http://www.w3.org/2000/01/rdf-schema#subClassOf\": [\n",
            "            {\n",
            "                \"@id\": \"http://webprotege.stanford.edu/R9gqE5CVDVMyWK085AGL0s\"\n",
            "            }\n",
            "        ]\n",
            "    },\n",
            "    {\n",
            "        \"@id\": \"http://webprotege.stanford.edu/RCYmJDRpbQdeHeKRwXv2yeJ\",\n",
            "        \"@type\": [\n",
            "            \"http://www.w3.org/2002/07/owl#Class\"\n",
            "        ],\n",
            "        \"http://www.w3.org/2000/01/rdf-schema#label\": [\n",
            "            {\n",
            "                \"@language\": \"ru\",\n",
            "                \"@value\": \"Гипотеза Римана\"\n",
            "            }\n",
            "        ],\n",
            "        \"http://www.w3.org/2000/01/rdf-schema#subClassOf\": [\n",
            "            {\n",
            "                \"@id\": \"http://webprotege.stanford.edu/R9gqE5CVDVMyWK085AGL0s\"\n",
            "            }\n",
            "        ]\n",
            "    },\n",
            "    {\n",
            "        \"@id\": \"http://webprotege.stanford.edu/RBALf5p7dJAG8cR1BVnOchq\",\n",
            "        \"@type\": [\n",
            "            \"http://www.w3.org/2002/07/owl#Class\"\n",
            "        ],\n",
            "        \"http://www.w3.org/2000/01/rdf-schema#label\": [\n",
            "            {\n",
            "                \"@language\": \"ru\",\n",
            "                \"@value\": \"Гипотеза Бёрча — Свиннертон-Дайера\"\n",
            "            }\n",
            "        ],\n",
            "        \"http://www.w3.org/2000/01/rdf-schema#subClassOf\": [\n",
            "            {\n",
            "                \"@id\": \"http://webprotege.stanford.edu/R9gqE5CVDVMyWK085AGL0s\"\n",
            "            }\n",
            "        ]\n",
            "    },\n",
            "    {\n",
            "        \"@id\": \"http://webprotege.stanford.edu/RCrOA6SLElvu0ypSGsXFUUE\",\n",
            "        \"@type\": [\n",
            "            \"http://www.w3.org/2002/07/owl#Class\"\n",
            "        ],\n",
            "        \"http://www.w3.org/2000/01/rdf-schema#label\": [\n",
            "            {\n",
            "                \"@language\": \"ru\",\n",
            "                \"@value\": \"Теория Янга — Миллса\"\n",
            "            }\n",
            "        ],\n",
            "        \"http://www.w3.org/2000/01/rdf-schema#subClassOf\": [\n",
            "            {\n",
            "                \"@id\": \"http://webprotege.stanford.edu/R9gqE5CVDVMyWK085AGL0s\"\n",
            "            }\n",
            "        ]\n",
            "    },\n",
            "    {\n",
            "        \"@id\": \"http://webprotege.stanford.edu/R9tFzkM8yiXwrylVce7FeAo\",\n",
            "        \"@type\": [\n",
            "            \"http://www.w3.org/2002/07/owl#Class\"\n",
            "        ],\n",
            "        \"http://www.w3.org/2000/01/rdf-schema#label\": [\n",
            "            {\n",
            "                \"@language\": \"ru\",\n",
            "                \"@value\": \"Равенство классов P и NP\"\n",
            "            }\n",
            "        ],\n",
            "        \"http://www.w3.org/2000/01/rdf-schema#subClassOf\": [\n",
            "            {\n",
            "                \"@id\": \"http://webprotege.stanford.edu/R9gqE5CVDVMyWK085AGL0s\"\n",
            "            }\n",
            "        ]\n",
            "    },\n",
            "    {\n",
            "        \"@id\": \"http://webprotege.stanford.edu/R7fpp4bGDaxfbEFySB6z9t4\",\n",
            "        \"@type\": [\n",
            "            \"http://www.w3.org/2002/07/owl#Class\"\n",
            "        ],\n",
            "        \"http://www.w3.org/2000/01/rdf-schema#label\": [\n",
            "            {\n",
            "                \"@language\": \"ru\",\n",
            "                \"@value\": \"Существование и гладкость решений уравнений Навье — Стокса\"\n",
            "            }\n",
            "        ],\n",
            "        \"http://www.w3.org/2000/01/rdf-schema#subClassOf\": [\n",
            "            {\n",
            "                \"@id\": \"http://webprotege.stanford.edu/R9gqE5CVDVMyWK085AGL0s\"\n",
            "            }\n",
            "        ]\n",
            "    }\n",
            "]\n"
          ]
        }
      ]
    },
    {
      "cell_type": "markdown",
      "source": [
        "# Выделение маркеров фейка из json файла"
      ],
      "metadata": {
        "id": "OkqMhqXg4VU0"
      }
    },
    {
      "cell_type": "code",
      "source": [
        "with open('output1.txt', 'w') as f:\n",
        "    f.write(json_data)\n",
        "\n",
        "with open('output1.txt', 'r') as f:                             # Чтение содержимого файла\n",
        "    data = f.read()\n",
        "                                                               # Вывод содержимого файла на экран\n",
        "print(data)"
      ],
      "metadata": {
        "colab": {
          "base_uri": "https://localhost:8080/"
        },
        "id": "j-LoP7f-LoDf",
        "outputId": "644992bb-9bde-46a0-bf6b-a9a71442d646"
      },
      "execution_count": null,
      "outputs": [
        {
          "output_type": "stream",
          "name": "stdout",
          "text": [
            "[\n",
            "    {\n",
            "        \"@id\": \"http://webprotege.stanford.edu/R9gqE5CVDVMyWK085AGL0s\",\n",
            "        \"@type\": [\n",
            "            \"http://www.w3.org/2002/07/owl#Class\"\n",
            "        ],\n",
            "        \"http://www.w3.org/2000/01/rdf-schema#label\": [\n",
            "            {\n",
            "                \"@language\": \"ru\",\n",
            "                \"@value\": \"Темы новостей\"\n",
            "            }\n",
            "        ],\n",
            "        \"http://www.w3.org/2000/01/rdf-schema#subClassOf\": [\n",
            "            {\n",
            "                \"@id\": \"http://webprotege.stanford.edu/RDqm0ObkL5xsDHWk1DaBE4Y\"\n",
            "            }\n",
            "        ]\n",
            "    },\n",
            "    {\n",
            "        \"@id\": \"urn:webprotege:ontology:511a8675-2461-4b7a-ba84-e70faecb1102\",\n",
            "        \"@type\": [\n",
            "            \"http://www.w3.org/2002/07/owl#Ontology\"\n",
            "        ]\n",
            "    },\n",
            "    {\n",
            "        \"@id\": \"http://webprotege.stanford.edu/RDqm0ObkL5xsDHWk1DaBE4Y\",\n",
            "        \"@type\": [\n",
            "            \"http://www.w3.org/2002/07/owl#Class\"\n",
            "        ],\n",
            "        \"http://www.w3.org/2000/01/rdf-schema#label\": [\n",
            "            {\n",
            "                \"@language\": \"ru\",\n",
            "                \"@value\": \"Новости\"\n",
            "            }\n",
            "        ]\n",
            "    },\n",
            "    {\n",
            "        \"@id\": \"http://webprotege.stanford.edu/R74IUXdbRYdrhpKttwReSGv\",\n",
            "        \"@type\": [\n",
            "            \"http://www.w3.org/2002/07/owl#Class\"\n",
            "        ],\n",
            "        \"http://www.w3.org/2000/01/rdf-schema#label\": [\n",
            "            {\n",
            "                \"@language\": \"ru\",\n",
            "                \"@value\": \"Гипотеза Ходжа\"\n",
            "            }\n",
            "        ],\n",
            "        \"http://www.w3.org/2000/01/rdf-schema#subClassOf\": [\n",
            "            {\n",
            "                \"@id\": \"http://webprotege.stanford.edu/R9gqE5CVDVMyWK085AGL0s\"\n",
            "            }\n",
            "        ]\n",
            "    },\n",
            "    {\n",
            "        \"@id\": \"http://webprotege.stanford.edu/RCYmJDRpbQdeHeKRwXv2yeJ\",\n",
            "        \"@type\": [\n",
            "            \"http://www.w3.org/2002/07/owl#Class\"\n",
            "        ],\n",
            "        \"http://www.w3.org/2000/01/rdf-schema#label\": [\n",
            "            {\n",
            "                \"@language\": \"ru\",\n",
            "                \"@value\": \"Гипотеза Римана\"\n",
            "            }\n",
            "        ],\n",
            "        \"http://www.w3.org/2000/01/rdf-schema#subClassOf\": [\n",
            "            {\n",
            "                \"@id\": \"http://webprotege.stanford.edu/R9gqE5CVDVMyWK085AGL0s\"\n",
            "            }\n",
            "        ]\n",
            "    },\n",
            "    {\n",
            "        \"@id\": \"http://webprotege.stanford.edu/RBALf5p7dJAG8cR1BVnOchq\",\n",
            "        \"@type\": [\n",
            "            \"http://www.w3.org/2002/07/owl#Class\"\n",
            "        ],\n",
            "        \"http://www.w3.org/2000/01/rdf-schema#label\": [\n",
            "            {\n",
            "                \"@language\": \"ru\",\n",
            "                \"@value\": \"Гипотеза Бёрча — Свиннертон-Дайера\"\n",
            "            }\n",
            "        ],\n",
            "        \"http://www.w3.org/2000/01/rdf-schema#subClassOf\": [\n",
            "            {\n",
            "                \"@id\": \"http://webprotege.stanford.edu/R9gqE5CVDVMyWK085AGL0s\"\n",
            "            }\n",
            "        ]\n",
            "    },\n",
            "    {\n",
            "        \"@id\": \"http://webprotege.stanford.edu/RCrOA6SLElvu0ypSGsXFUUE\",\n",
            "        \"@type\": [\n",
            "            \"http://www.w3.org/2002/07/owl#Class\"\n",
            "        ],\n",
            "        \"http://www.w3.org/2000/01/rdf-schema#label\": [\n",
            "            {\n",
            "                \"@language\": \"ru\",\n",
            "                \"@value\": \"Теория Янга — Миллса\"\n",
            "            }\n",
            "        ],\n",
            "        \"http://www.w3.org/2000/01/rdf-schema#subClassOf\": [\n",
            "            {\n",
            "                \"@id\": \"http://webprotege.stanford.edu/R9gqE5CVDVMyWK085AGL0s\"\n",
            "            }\n",
            "        ]\n",
            "    },\n",
            "    {\n",
            "        \"@id\": \"http://webprotege.stanford.edu/R9tFzkM8yiXwrylVce7FeAo\",\n",
            "        \"@type\": [\n",
            "            \"http://www.w3.org/2002/07/owl#Class\"\n",
            "        ],\n",
            "        \"http://www.w3.org/2000/01/rdf-schema#label\": [\n",
            "            {\n",
            "                \"@language\": \"ru\",\n",
            "                \"@value\": \"Равенство классов P и NP\"\n",
            "            }\n",
            "        ],\n",
            "        \"http://www.w3.org/2000/01/rdf-schema#subClassOf\": [\n",
            "            {\n",
            "                \"@id\": \"http://webprotege.stanford.edu/R9gqE5CVDVMyWK085AGL0s\"\n",
            "            }\n",
            "        ]\n",
            "    },\n",
            "    {\n",
            "        \"@id\": \"http://webprotege.stanford.edu/R7fpp4bGDaxfbEFySB6z9t4\",\n",
            "        \"@type\": [\n",
            "            \"http://www.w3.org/2002/07/owl#Class\"\n",
            "        ],\n",
            "        \"http://www.w3.org/2000/01/rdf-schema#label\": [\n",
            "            {\n",
            "                \"@language\": \"ru\",\n",
            "                \"@value\": \"Существование и гладкость решений уравнений Навье — Стокса\"\n",
            "            }\n",
            "        ],\n",
            "        \"http://www.w3.org/2000/01/rdf-schema#subClassOf\": [\n",
            "            {\n",
            "                \"@id\": \"http://webprotege.stanford.edu/R9gqE5CVDVMyWK085AGL0s\"\n",
            "            }\n",
            "        ]\n",
            "    }\n",
            "]\n"
          ]
        }
      ]
    },
    {
      "cell_type": "code",
      "source": [
        "lower_string = data.lower()                                                                                                  #к нижнему регистру\n",
        "no_number_string = re.sub(r'\\d+','', lower_string)                                                                           #удаление чисел\n",
        "no_wspace_string = no_number_string.strip()                                                                                   #удаление лишних пробелов\n",
        "no_wspace_string = no_wspace_string.replace(\" — \", \"-\")\n",
        "re.findall(r\"^.*?(-.*?)-.*$\",no_wspace_string)                                                                                #замена\n",
        "print(no_wspace_string)"
      ],
      "metadata": {
        "colab": {
          "base_uri": "https://localhost:8080/"
        },
        "id": "6V6u75mNM01t",
        "outputId": "fba52e13-92b2-48cd-b7de-f9fcb1512be2"
      },
      "execution_count": null,
      "outputs": [
        {
          "output_type": "stream",
          "name": "stdout",
          "text": [
            "[\n",
            "    {\n",
            "        \"@id\": \"http://webprotege.stanford.edu/rgqecvdvmywkagls\",\n",
            "        \"@type\": [\n",
            "            \"http://www.w.org///owl#class\"\n",
            "        ],\n",
            "        \"http://www.w.org///rdf-schema#label\": [\n",
            "            {\n",
            "                \"@language\": \"ru\",\n",
            "                \"@value\": \"темы новостей\"\n",
            "            }\n",
            "        ],\n",
            "        \"http://www.w.org///rdf-schema#subclassof\": [\n",
            "            {\n",
            "                \"@id\": \"http://webprotege.stanford.edu/rdqmobklxsdhwkdabey\"\n",
            "            }\n",
            "        ]\n",
            "    },\n",
            "    {\n",
            "        \"@id\": \"urn:webprotege:ontology:a--ba-ba-efaecb\",\n",
            "        \"@type\": [\n",
            "            \"http://www.w.org///owl#ontology\"\n",
            "        ]\n",
            "    },\n",
            "    {\n",
            "        \"@id\": \"http://webprotege.stanford.edu/rdqmobklxsdhwkdabey\",\n",
            "        \"@type\": [\n",
            "            \"http://www.w.org///owl#class\"\n",
            "        ],\n",
            "        \"http://www.w.org///rdf-schema#label\": [\n",
            "            {\n",
            "                \"@language\": \"ru\",\n",
            "                \"@value\": \"новости\"\n",
            "            }\n",
            "        ]\n",
            "    },\n",
            "    {\n",
            "        \"@id\": \"http://webprotege.stanford.edu/riuxdbrydrhpkttwresgv\",\n",
            "        \"@type\": [\n",
            "            \"http://www.w.org///owl#class\"\n",
            "        ],\n",
            "        \"http://www.w.org///rdf-schema#label\": [\n",
            "            {\n",
            "                \"@language\": \"ru\",\n",
            "                \"@value\": \"гипотеза ходжа\"\n",
            "            }\n",
            "        ],\n",
            "        \"http://www.w.org///rdf-schema#subclassof\": [\n",
            "            {\n",
            "                \"@id\": \"http://webprotege.stanford.edu/rgqecvdvmywkagls\"\n",
            "            }\n",
            "        ]\n",
            "    },\n",
            "    {\n",
            "        \"@id\": \"http://webprotege.stanford.edu/rcymjdrpbqdehekrwxvyej\",\n",
            "        \"@type\": [\n",
            "            \"http://www.w.org///owl#class\"\n",
            "        ],\n",
            "        \"http://www.w.org///rdf-schema#label\": [\n",
            "            {\n",
            "                \"@language\": \"ru\",\n",
            "                \"@value\": \"гипотеза римана\"\n",
            "            }\n",
            "        ],\n",
            "        \"http://www.w.org///rdf-schema#subclassof\": [\n",
            "            {\n",
            "                \"@id\": \"http://webprotege.stanford.edu/rgqecvdvmywkagls\"\n",
            "            }\n",
            "        ]\n",
            "    },\n",
            "    {\n",
            "        \"@id\": \"http://webprotege.stanford.edu/rbalfpdjagcrbvnochq\",\n",
            "        \"@type\": [\n",
            "            \"http://www.w.org///owl#class\"\n",
            "        ],\n",
            "        \"http://www.w.org///rdf-schema#label\": [\n",
            "            {\n",
            "                \"@language\": \"ru\",\n",
            "                \"@value\": \"гипотеза бёрча-свиннертон-дайера\"\n",
            "            }\n",
            "        ],\n",
            "        \"http://www.w.org///rdf-schema#subclassof\": [\n",
            "            {\n",
            "                \"@id\": \"http://webprotege.stanford.edu/rgqecvdvmywkagls\"\n",
            "            }\n",
            "        ]\n",
            "    },\n",
            "    {\n",
            "        \"@id\": \"http://webprotege.stanford.edu/rcroaslelvuypsgsxfuue\",\n",
            "        \"@type\": [\n",
            "            \"http://www.w.org///owl#class\"\n",
            "        ],\n",
            "        \"http://www.w.org///rdf-schema#label\": [\n",
            "            {\n",
            "                \"@language\": \"ru\",\n",
            "                \"@value\": \"теория янга-миллса\"\n",
            "            }\n",
            "        ],\n",
            "        \"http://www.w.org///rdf-schema#subclassof\": [\n",
            "            {\n",
            "                \"@id\": \"http://webprotege.stanford.edu/rgqecvdvmywkagls\"\n",
            "            }\n",
            "        ]\n",
            "    },\n",
            "    {\n",
            "        \"@id\": \"http://webprotege.stanford.edu/rtfzkmyixwrylvcefeao\",\n",
            "        \"@type\": [\n",
            "            \"http://www.w.org///owl#class\"\n",
            "        ],\n",
            "        \"http://www.w.org///rdf-schema#label\": [\n",
            "            {\n",
            "                \"@language\": \"ru\",\n",
            "                \"@value\": \"равенство классов p и np\"\n",
            "            }\n",
            "        ],\n",
            "        \"http://www.w.org///rdf-schema#subclassof\": [\n",
            "            {\n",
            "                \"@id\": \"http://webprotege.stanford.edu/rgqecvdvmywkagls\"\n",
            "            }\n",
            "        ]\n",
            "    },\n",
            "    {\n",
            "        \"@id\": \"http://webprotege.stanford.edu/rfppbgdaxfbefysbzt\",\n",
            "        \"@type\": [\n",
            "            \"http://www.w.org///owl#class\"\n",
            "        ],\n",
            "        \"http://www.w.org///rdf-schema#label\": [\n",
            "            {\n",
            "                \"@language\": \"ru\",\n",
            "                \"@value\": \"существование и гладкость решений уравнений навье-стокса\"\n",
            "            }\n",
            "        ],\n",
            "        \"http://www.w.org///rdf-schema#subclassof\": [\n",
            "            {\n",
            "                \"@id\": \"http://webprotege.stanford.edu/rgqecvdvmywkagls\"\n",
            "            }\n",
            "        ]\n",
            "    }\n",
            "]\n"
          ]
        }
      ]
    },
    {
      "cell_type": "code",
      "source": [
        "import nltk\n",
        "from nltk.tokenize import word_tokenize \n",
        "nltk.download('punkt')\n",
        "\n",
        "tokens_without_sw = word_tokenize(no_wspace_string)                                                                  #токенизация текста\n",
        "print(tokens_without_sw)"
      ],
      "metadata": {
        "colab": {
          "base_uri": "https://localhost:8080/"
        },
        "id": "oAuN9WPdNPI3",
        "outputId": "c1362d8a-7d2d-4ef4-f4b6-aa68f0b26013"
      },
      "execution_count": null,
      "outputs": [
        {
          "output_type": "stream",
          "name": "stdout",
          "text": [
            "['[', '{', '``', '@', 'id', \"''\", ':', '``', 'http', ':', '//webprotege.stanford.edu/rgqecvdvmywkagls', \"''\", ',', '``', '@', 'type', \"''\", ':', '[', '``', 'http', ':', '//www.w.org///owl', '#', 'class', \"''\", ']', ',', '``', 'http', ':', '//www.w.org///rdf-schema', '#', 'label', \"''\", ':', '[', '{', '``', '@', 'language', \"''\", ':', '``', 'ru', \"''\", ',', '``', '@', 'value', \"''\", ':', '``', 'темы', 'новостей', \"''\", '}', ']', ',', '``', 'http', ':', '//www.w.org///rdf-schema', '#', 'subclassof', \"''\", ':', '[', '{', '``', '@', 'id', \"''\", ':', '``', 'http', ':', '//webprotege.stanford.edu/rdqmobklxsdhwkdabey', \"''\", '}', ']', '}', ',', '{', '``', '@', 'id', \"''\", ':', '``', 'urn', ':', 'webprotege', ':', 'ontology', ':', 'a', '--', 'ba-ba-efaecb', \"''\", ',', '``', '@', 'type', \"''\", ':', '[', '``', 'http', ':', '//www.w.org///owl', '#', 'ontology', \"''\", ']', '}', ',', '{', '``', '@', 'id', \"''\", ':', '``', 'http', ':', '//webprotege.stanford.edu/rdqmobklxsdhwkdabey', \"''\", ',', '``', '@', 'type', \"''\", ':', '[', '``', 'http', ':', '//www.w.org///owl', '#', 'class', \"''\", ']', ',', '``', 'http', ':', '//www.w.org///rdf-schema', '#', 'label', \"''\", ':', '[', '{', '``', '@', 'language', \"''\", ':', '``', 'ru', \"''\", ',', '``', '@', 'value', \"''\", ':', '``', 'новости', \"''\", '}', ']', '}', ',', '{', '``', '@', 'id', \"''\", ':', '``', 'http', ':', '//webprotege.stanford.edu/riuxdbrydrhpkttwresgv', \"''\", ',', '``', '@', 'type', \"''\", ':', '[', '``', 'http', ':', '//www.w.org///owl', '#', 'class', \"''\", ']', ',', '``', 'http', ':', '//www.w.org///rdf-schema', '#', 'label', \"''\", ':', '[', '{', '``', '@', 'language', \"''\", ':', '``', 'ru', \"''\", ',', '``', '@', 'value', \"''\", ':', '``', 'гипотеза', 'ходжа', \"''\", '}', ']', ',', '``', 'http', ':', '//www.w.org///rdf-schema', '#', 'subclassof', \"''\", ':', '[', '{', '``', '@', 'id', \"''\", ':', '``', 'http', ':', '//webprotege.stanford.edu/rgqecvdvmywkagls', \"''\", '}', ']', '}', ',', '{', '``', '@', 'id', \"''\", ':', '``', 'http', ':', '//webprotege.stanford.edu/rcymjdrpbqdehekrwxvyej', \"''\", ',', '``', '@', 'type', \"''\", ':', '[', '``', 'http', ':', '//www.w.org///owl', '#', 'class', \"''\", ']', ',', '``', 'http', ':', '//www.w.org///rdf-schema', '#', 'label', \"''\", ':', '[', '{', '``', '@', 'language', \"''\", ':', '``', 'ru', \"''\", ',', '``', '@', 'value', \"''\", ':', '``', 'гипотеза', 'римана', \"''\", '}', ']', ',', '``', 'http', ':', '//www.w.org///rdf-schema', '#', 'subclassof', \"''\", ':', '[', '{', '``', '@', 'id', \"''\", ':', '``', 'http', ':', '//webprotege.stanford.edu/rgqecvdvmywkagls', \"''\", '}', ']', '}', ',', '{', '``', '@', 'id', \"''\", ':', '``', 'http', ':', '//webprotege.stanford.edu/rbalfpdjagcrbvnochq', \"''\", ',', '``', '@', 'type', \"''\", ':', '[', '``', 'http', ':', '//www.w.org///owl', '#', 'class', \"''\", ']', ',', '``', 'http', ':', '//www.w.org///rdf-schema', '#', 'label', \"''\", ':', '[', '{', '``', '@', 'language', \"''\", ':', '``', 'ru', \"''\", ',', '``', '@', 'value', \"''\", ':', '``', 'гипотеза', 'бёрча-свиннертон-дайера', \"''\", '}', ']', ',', '``', 'http', ':', '//www.w.org///rdf-schema', '#', 'subclassof', \"''\", ':', '[', '{', '``', '@', 'id', \"''\", ':', '``', 'http', ':', '//webprotege.stanford.edu/rgqecvdvmywkagls', \"''\", '}', ']', '}', ',', '{', '``', '@', 'id', \"''\", ':', '``', 'http', ':', '//webprotege.stanford.edu/rcroaslelvuypsgsxfuue', \"''\", ',', '``', '@', 'type', \"''\", ':', '[', '``', 'http', ':', '//www.w.org///owl', '#', 'class', \"''\", ']', ',', '``', 'http', ':', '//www.w.org///rdf-schema', '#', 'label', \"''\", ':', '[', '{', '``', '@', 'language', \"''\", ':', '``', 'ru', \"''\", ',', '``', '@', 'value', \"''\", ':', '``', 'теория', 'янга-миллса', \"''\", '}', ']', ',', '``', 'http', ':', '//www.w.org///rdf-schema', '#', 'subclassof', \"''\", ':', '[', '{', '``', '@', 'id', \"''\", ':', '``', 'http', ':', '//webprotege.stanford.edu/rgqecvdvmywkagls', \"''\", '}', ']', '}', ',', '{', '``', '@', 'id', \"''\", ':', '``', 'http', ':', '//webprotege.stanford.edu/rtfzkmyixwrylvcefeao', \"''\", ',', '``', '@', 'type', \"''\", ':', '[', '``', 'http', ':', '//www.w.org///owl', '#', 'class', \"''\", ']', ',', '``', 'http', ':', '//www.w.org///rdf-schema', '#', 'label', \"''\", ':', '[', '{', '``', '@', 'language', \"''\", ':', '``', 'ru', \"''\", ',', '``', '@', 'value', \"''\", ':', '``', 'равенство', 'классов', 'p', 'и', 'np', \"''\", '}', ']', ',', '``', 'http', ':', '//www.w.org///rdf-schema', '#', 'subclassof', \"''\", ':', '[', '{', '``', '@', 'id', \"''\", ':', '``', 'http', ':', '//webprotege.stanford.edu/rgqecvdvmywkagls', \"''\", '}', ']', '}', ',', '{', '``', '@', 'id', \"''\", ':', '``', 'http', ':', '//webprotege.stanford.edu/rfppbgdaxfbefysbzt', \"''\", ',', '``', '@', 'type', \"''\", ':', '[', '``', 'http', ':', '//www.w.org///owl', '#', 'class', \"''\", ']', ',', '``', 'http', ':', '//www.w.org///rdf-schema', '#', 'label', \"''\", ':', '[', '{', '``', '@', 'language', \"''\", ':', '``', 'ru', \"''\", ',', '``', '@', 'value', \"''\", ':', '``', 'существование', 'и', 'гладкость', 'решений', 'уравнений', 'навье-стокса', \"''\", '}', ']', ',', '``', 'http', ':', '//www.w.org///rdf-schema', '#', 'subclassof', \"''\", ':', '[', '{', '``', '@', 'id', \"''\", ':', '``', 'http', ':', '//webprotege.stanford.edu/rgqecvdvmywkagls', \"''\", '}', ']', '}', ']']\n"
          ]
        },
        {
          "output_type": "stream",
          "name": "stderr",
          "text": [
            "[nltk_data] Downloading package punkt to /root/nltk_data...\n",
            "[nltk_data]   Package punkt is already up-to-date!\n"
          ]
        }
      ]
    },
    {
      "cell_type": "code",
      "source": [
        "import pymorphy2\n",
        "\n",
        "morph = pymorphy2.MorphAnalyzer()                                                                                             #лемматизация \n",
        "normal_f = []\n",
        "for word in tokens_without_sw:\n",
        "    normal_f.append(morph.parse(word)[0].normal_form)\n",
        "print(normal_f)"
      ],
      "metadata": {
        "colab": {
          "base_uri": "https://localhost:8080/"
        },
        "id": "BGTTXSx7NV8l",
        "outputId": "e3e68545-b6d5-45b3-a419-3d54e8d61180"
      },
      "execution_count": null,
      "outputs": [
        {
          "output_type": "stream",
          "name": "stdout",
          "text": [
            "['[', '{', '``', '@', 'id', \"''\", ':', '``', 'http', ':', '//webprotege.stanford.edu/rgqecvdvmywkagls', \"''\", ',', '``', '@', 'type', \"''\", ':', '[', '``', 'http', ':', '//www.w.org///owl', '#', 'class', \"''\", ']', ',', '``', 'http', ':', '//www.w.org///rdf-schema', '#', 'label', \"''\", ':', '[', '{', '``', '@', 'language', \"''\", ':', '``', 'ru', \"''\", ',', '``', '@', 'value', \"''\", ':', '``', 'тема', 'новость', \"''\", '}', ']', ',', '``', 'http', ':', '//www.w.org///rdf-schema', '#', 'subclassof', \"''\", ':', '[', '{', '``', '@', 'id', \"''\", ':', '``', 'http', ':', '//webprotege.stanford.edu/rdqmobklxsdhwkdabey', \"''\", '}', ']', '}', ',', '{', '``', '@', 'id', \"''\", ':', '``', 'urn', ':', 'webprotege', ':', 'ontology', ':', 'a', '--', 'ba-ba-efaecb', \"''\", ',', '``', '@', 'type', \"''\", ':', '[', '``', 'http', ':', '//www.w.org///owl', '#', 'ontology', \"''\", ']', '}', ',', '{', '``', '@', 'id', \"''\", ':', '``', 'http', ':', '//webprotege.stanford.edu/rdqmobklxsdhwkdabey', \"''\", ',', '``', '@', 'type', \"''\", ':', '[', '``', 'http', ':', '//www.w.org///owl', '#', 'class', \"''\", ']', ',', '``', 'http', ':', '//www.w.org///rdf-schema', '#', 'label', \"''\", ':', '[', '{', '``', '@', 'language', \"''\", ':', '``', 'ru', \"''\", ',', '``', '@', 'value', \"''\", ':', '``', 'новость', \"''\", '}', ']', '}', ',', '{', '``', '@', 'id', \"''\", ':', '``', 'http', ':', '//webprotege.stanford.edu/riuxdbrydrhpkttwresgv', \"''\", ',', '``', '@', 'type', \"''\", ':', '[', '``', 'http', ':', '//www.w.org///owl', '#', 'class', \"''\", ']', ',', '``', 'http', ':', '//www.w.org///rdf-schema', '#', 'label', \"''\", ':', '[', '{', '``', '@', 'language', \"''\", ':', '``', 'ru', \"''\", ',', '``', '@', 'value', \"''\", ':', '``', 'гипотеза', 'ходжа', \"''\", '}', ']', ',', '``', 'http', ':', '//www.w.org///rdf-schema', '#', 'subclassof', \"''\", ':', '[', '{', '``', '@', 'id', \"''\", ':', '``', 'http', ':', '//webprotege.stanford.edu/rgqecvdvmywkagls', \"''\", '}', ']', '}', ',', '{', '``', '@', 'id', \"''\", ':', '``', 'http', ':', '//webprotege.stanford.edu/rcymjdrpbqdehekrwxvyej', \"''\", ',', '``', '@', 'type', \"''\", ':', '[', '``', 'http', ':', '//www.w.org///owl', '#', 'class', \"''\", ']', ',', '``', 'http', ':', '//www.w.org///rdf-schema', '#', 'label', \"''\", ':', '[', '{', '``', '@', 'language', \"''\", ':', '``', 'ru', \"''\", ',', '``', '@', 'value', \"''\", ':', '``', 'гипотеза', 'риман', \"''\", '}', ']', ',', '``', 'http', ':', '//www.w.org///rdf-schema', '#', 'subclassof', \"''\", ':', '[', '{', '``', '@', 'id', \"''\", ':', '``', 'http', ':', '//webprotege.stanford.edu/rgqecvdvmywkagls', \"''\", '}', ']', '}', ',', '{', '``', '@', 'id', \"''\", ':', '``', 'http', ':', '//webprotege.stanford.edu/rbalfpdjagcrbvnochq', \"''\", ',', '``', '@', 'type', \"''\", ':', '[', '``', 'http', ':', '//www.w.org///owl', '#', 'class', \"''\", ']', ',', '``', 'http', ':', '//www.w.org///rdf-schema', '#', 'label', \"''\", ':', '[', '{', '``', '@', 'language', \"''\", ':', '``', 'ru', \"''\", ',', '``', '@', 'value', \"''\", ':', '``', 'гипотеза', 'бёрча-свиннертон-дайер', \"''\", '}', ']', ',', '``', 'http', ':', '//www.w.org///rdf-schema', '#', 'subclassof', \"''\", ':', '[', '{', '``', '@', 'id', \"''\", ':', '``', 'http', ':', '//webprotege.stanford.edu/rgqecvdvmywkagls', \"''\", '}', ']', '}', ',', '{', '``', '@', 'id', \"''\", ':', '``', 'http', ':', '//webprotege.stanford.edu/rcroaslelvuypsgsxfuue', \"''\", ',', '``', '@', 'type', \"''\", ':', '[', '``', 'http', ':', '//www.w.org///owl', '#', 'class', \"''\", ']', ',', '``', 'http', ':', '//www.w.org///rdf-schema', '#', 'label', \"''\", ':', '[', '{', '``', '@', 'language', \"''\", ':', '``', 'ru', \"''\", ',', '``', '@', 'value', \"''\", ':', '``', 'теория', 'янг-миллс', \"''\", '}', ']', ',', '``', 'http', ':', '//www.w.org///rdf-schema', '#', 'subclassof', \"''\", ':', '[', '{', '``', '@', 'id', \"''\", ':', '``', 'http', ':', '//webprotege.stanford.edu/rgqecvdvmywkagls', \"''\", '}', ']', '}', ',', '{', '``', '@', 'id', \"''\", ':', '``', 'http', ':', '//webprotege.stanford.edu/rtfzkmyixwrylvcefeao', \"''\", ',', '``', '@', 'type', \"''\", ':', '[', '``', 'http', ':', '//www.w.org///owl', '#', 'class', \"''\", ']', ',', '``', 'http', ':', '//www.w.org///rdf-schema', '#', 'label', \"''\", ':', '[', '{', '``', '@', 'language', \"''\", ':', '``', 'ru', \"''\", ',', '``', '@', 'value', \"''\", ':', '``', 'равенство', 'класс', 'p', 'и', 'np', \"''\", '}', ']', ',', '``', 'http', ':', '//www.w.org///rdf-schema', '#', 'subclassof', \"''\", ':', '[', '{', '``', '@', 'id', \"''\", ':', '``', 'http', ':', '//webprotege.stanford.edu/rgqecvdvmywkagls', \"''\", '}', ']', '}', ',', '{', '``', '@', 'id', \"''\", ':', '``', 'http', ':', '//webprotege.stanford.edu/rfppbgdaxfbefysbzt', \"''\", ',', '``', '@', 'type', \"''\", ':', '[', '``', 'http', ':', '//www.w.org///owl', '#', 'class', \"''\", ']', ',', '``', 'http', ':', '//www.w.org///rdf-schema', '#', 'label', \"''\", ':', '[', '{', '``', '@', 'language', \"''\", ':', '``', 'ru', \"''\", ',', '``', '@', 'value', \"''\", ':', '``', 'существование', 'и', 'гладкость', 'решение', 'уравнение', 'навье-стокс', \"''\", '}', ']', ',', '``', 'http', ':', '//www.w.org///rdf-schema', '#', 'subclassof', \"''\", ':', '[', '{', '``', '@', 'id', \"''\", ':', '``', 'http', ':', '//webprotege.stanford.edu/rgqecvdvmywkagls', \"''\", '}', ']', '}', ']']\n"
          ]
        }
      ]
    },
    {
      "cell_type": "code",
      "source": [
        "from nltk.corpus import stopwords                                                                                                                                                        #удаление стоп-слов и знаков препинания\n",
        "import nltk\n",
        "nltk.download('stopwords')\n",
        "\n",
        "from string import punctuation                                                                                                                                                              #проблема с фильтрацией стоп-слов - отдельная глава\n",
        "punctuation\n",
        "\n",
        "new_stopwords = [\"это\", \"также\", \"гипотеза\", \"равенство\", \"теория\", \"существование\", \"класс\", \"гладкость\", \"уравнение\", \"решение\", \"//www.w.org///rdf-schema\"]                                                        #создание доп списка с стоп-словами \n",
        "new_punc = [\"«\", \"»\", \"''\", \"``\", \"'``\"]                                                                                                                                                                     #создание доп списка с пунктуационными символами\n",
        "noise = stopwords.words('russian') + list(punctuation) \n",
        "noise.extend(new_stopwords) \n",
        "noise.extend(new_punc)\n",
        "normal_f = [word for word in normal_f if not word in noise] \n",
        " \n",
        "print(normal_f)  "
      ],
      "metadata": {
        "colab": {
          "base_uri": "https://localhost:8080/"
        },
        "id": "f7HBflEpNacV",
        "outputId": "c9bfdb24-7d84-498c-f2e7-bedd3b0a02df"
      },
      "execution_count": null,
      "outputs": [
        {
          "output_type": "stream",
          "name": "stdout",
          "text": [
            "['id', 'http', '//webprotege.stanford.edu/rgqecvdvmywkagls', 'type', 'http', '//www.w.org///owl', 'class', 'http', 'label', 'language', 'ru', 'value', 'тема', 'новость', 'http', 'subclassof', 'id', 'http', '//webprotege.stanford.edu/rdqmobklxsdhwkdabey', 'id', 'urn', 'webprotege', 'ontology', 'a', '--', 'ba-ba-efaecb', 'type', 'http', '//www.w.org///owl', 'ontology', 'id', 'http', '//webprotege.stanford.edu/rdqmobklxsdhwkdabey', 'type', 'http', '//www.w.org///owl', 'class', 'http', 'label', 'language', 'ru', 'value', 'новость', 'id', 'http', '//webprotege.stanford.edu/riuxdbrydrhpkttwresgv', 'type', 'http', '//www.w.org///owl', 'class', 'http', 'label', 'language', 'ru', 'value', 'ходжа', 'http', 'subclassof', 'id', 'http', '//webprotege.stanford.edu/rgqecvdvmywkagls', 'id', 'http', '//webprotege.stanford.edu/rcymjdrpbqdehekrwxvyej', 'type', 'http', '//www.w.org///owl', 'class', 'http', 'label', 'language', 'ru', 'value', 'риман', 'http', 'subclassof', 'id', 'http', '//webprotege.stanford.edu/rgqecvdvmywkagls', 'id', 'http', '//webprotege.stanford.edu/rbalfpdjagcrbvnochq', 'type', 'http', '//www.w.org///owl', 'class', 'http', 'label', 'language', 'ru', 'value', 'бёрча-свиннертон-дайер', 'http', 'subclassof', 'id', 'http', '//webprotege.stanford.edu/rgqecvdvmywkagls', 'id', 'http', '//webprotege.stanford.edu/rcroaslelvuypsgsxfuue', 'type', 'http', '//www.w.org///owl', 'class', 'http', 'label', 'language', 'ru', 'value', 'янг-миллс', 'http', 'subclassof', 'id', 'http', '//webprotege.stanford.edu/rgqecvdvmywkagls', 'id', 'http', '//webprotege.stanford.edu/rtfzkmyixwrylvcefeao', 'type', 'http', '//www.w.org///owl', 'class', 'http', 'label', 'language', 'ru', 'value', 'p', 'np', 'http', 'subclassof', 'id', 'http', '//webprotege.stanford.edu/rgqecvdvmywkagls', 'id', 'http', '//webprotege.stanford.edu/rfppbgdaxfbefysbzt', 'type', 'http', '//www.w.org///owl', 'class', 'http', 'label', 'language', 'ru', 'value', 'навье-стокс', 'http', 'subclassof', 'id', 'http', '//webprotege.stanford.edu/rgqecvdvmywkagls']\n"
          ]
        },
        {
          "output_type": "stream",
          "name": "stderr",
          "text": [
            "[nltk_data] Downloading package stopwords to /root/nltk_data...\n",
            "[nltk_data]   Package stopwords is already up-to-date!\n"
          ]
        }
      ]
    },
    {
      "cell_type": "code",
      "source": [
        "mill_prize_problems = []\n",
        "\n",
        "                                                                             # проходим по списку и добавляем все значения, которые идут после \"value\", в список\n",
        "for i in range(len(normal_f)):\n",
        "    if normal_f[i] == 'value':\n",
        "        mill_prize_problems.append(normal_f[i+1])\n",
        "                                                                                                          # выводим список с найденными значениями\n",
        "mill_prize_problems.remove('тема')\n",
        "mill_prize_problems.remove('новость')\n",
        "mill_prize_problems.remove('p')\n",
        "print(mill_prize_problems)"
      ],
      "metadata": {
        "colab": {
          "base_uri": "https://localhost:8080/"
        },
        "id": "YAOBj3glPt9y",
        "outputId": "269c487e-5d1b-47f3-87d8-930d1f9e07a6"
      },
      "execution_count": null,
      "outputs": [
        {
          "output_type": "stream",
          "name": "stdout",
          "text": [
            "['ходжа', 'риман', 'бёрча-свиннертон-дайер', 'янг-миллс', 'навье-стокс']\n"
          ]
        }
      ]
    },
    {
      "cell_type": "code",
      "source": [
        "import itertools\n",
        "\n",
        "ontology_bigrams = list(itertools.product([\"доказать\"], mill_prize_problems))\n",
        "\n",
        "print(ontology_bigrams)"
      ],
      "metadata": {
        "colab": {
          "base_uri": "https://localhost:8080/"
        },
        "id": "8IHzW1DhTXZW",
        "outputId": "9f9d8736-4e4d-456c-b561-d350763766ac"
      },
      "execution_count": null,
      "outputs": [
        {
          "output_type": "stream",
          "name": "stdout",
          "text": [
            "[('доказать', 'ходжа'), ('доказать', 'риман'), ('доказать', 'бёрча-свиннертон-дайер'), ('доказать', 'янг-миллс'), ('доказать', 'навье-стокс')]\n"
          ]
        }
      ]
    },
    {
      "cell_type": "code",
      "source": [
        "for bigram in ontology_bigrams:\n",
        "    for bigram1 in bigrams:\n",
        "        if bigram == bigram1:\n",
        "            print('Текст вероятнее всего является фейком, так как содержит в себе шаблон \"доказать\" + маркер фейка. Полное совпадение найдено на маркере фейка:', bigram)\n",
        "            break\n",
        "    else:\n",
        "        continue\n",
        "    break\n",
        "else:\n",
        "    print('Полных совпадений не найдено')"
      ],
      "metadata": {
        "colab": {
          "base_uri": "https://localhost:8080/"
        },
        "id": "QsUtT6-ARgio",
        "outputId": "1db8585b-fc38-4979-d954-3fe850a0dfb7"
      },
      "execution_count": null,
      "outputs": [
        {
          "output_type": "stream",
          "name": "stdout",
          "text": [
            "Полных совпадений не найдено\n"
          ]
        }
      ]
    }
  ]
}